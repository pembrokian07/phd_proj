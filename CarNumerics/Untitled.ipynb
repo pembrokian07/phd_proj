{
 "cells": [
  {
   "cell_type": "code",
   "execution_count": 1,
   "metadata": {},
   "outputs": [],
   "source": [
    "import ols_regression"
   ]
  },
  {
   "cell_type": "code",
   "execution_count": 2,
   "metadata": {},
   "outputs": [
    {
     "name": "stdout",
     "output_type": "stream",
     "text": [
      "Running OLS Regression test...\n",
      "0.397060294305394, 0.39706029430539047\n",
      "33.36980039565309, 33.369800395653094\n",
      "Test complete.\n"
     ]
    }
   ],
   "source": [
    "ols_regression.main()"
   ]
  },
  {
   "cell_type": "code",
   "execution_count": null,
   "metadata": {},
   "outputs": [],
   "source": []
  },
  {
   "cell_type": "code",
   "execution_count": null,
   "metadata": {},
   "outputs": [],
   "source": []
  },
  {
   "cell_type": "code",
   "execution_count": null,
   "metadata": {},
   "outputs": [],
   "source": []
  },
  {
   "cell_type": "code",
   "execution_count": 6,
   "metadata": {},
   "outputs": [],
   "source": [
    "from collections.abc import Sequence\n"
   ]
  },
  {
   "cell_type": "code",
   "execution_count": 1,
   "metadata": {},
   "outputs": [],
   "source": [
    "from collections.abc import Sequence\n",
    "from numbers import Number\n",
    "from typing import Tuple\n",
    "import unittest\n",
    "\n",
    "def covar(x: Sequence, y: Sequence, mean_x: Number=None, mean_y: Number=None) -> Number:\n",
    "    \"\"\"\n",
    "    Computes the sample covariance between two sequences of numerics. \n",
    "    The two sequences must be of same length.\n",
    "    \n",
    "    @param x: sequence of numeric type\n",
    "    @param y: sequence of numeric type\n",
    "    @param mean_x: optional, expectation of sequence x\n",
    "    @param mean_y: optional, expectation of sequence y\n",
    "    @return: covariance of x and y\n",
    "    @raise Exception: if x and y are not of equi-length\n",
    "    \"\"\"\n",
    "    # check inputs are of equi-length\n",
    "    n = len(x)\n",
    "    if n != len(y):\n",
    "        raise Exception(\"Inputs x and y should be of same length.\")\n",
    "    \n",
    "    mean_x = sum(x)/n if mean_x is None else mean_x\n",
    "    mean_y = sum(y)/n if mean_y is None else mean_y\n",
    "    \n",
    "    return sum([(x[i] - mean_x)*(y[i] - mean_y) for i in range(0,n)])/(n-1)\n",
    "\n",
    "\n",
    "def ols_estimator(x: Sequence, y: Sequence) -> Tuple[float, float]:\n",
    "    \"\"\"\n",
    "    Estimate univariate OLS linear regression coefficients for y = a + b*x.\n",
    "    \n",
    "    @param x: regressor, sequence of numeric type\n",
    "    @param y: regressand, sequence of numeric type\n",
    "    @return: a tuple of (slope, intercept)\n",
    "    @raise Exception: if input sequences are ill defined\n",
    "    \"\"\"\n",
    "    # check inputs are of equi-length\n",
    "    n = len(x)\n",
    "    if n != len(y):\n",
    "        raise Exception(\"Inputs x and y should be of same length.\")\n",
    "    \n",
    "    if n < 2:\n",
    "        raise Exception(\"Input sequence should have length greater than one.\")\n",
    "        \n",
    "        \n",
    "    mean_x = sum(x)/n\n",
    "    mean_y = sum(y)/n\n",
    "    var_x = covar(x,x,mean_x,mean_x)\n",
    "    \n",
    "    if var_x == 0:\n",
    "        raise Exception(\"OLS Regressor cannot have zero variance.\")\n",
    "    \n",
    "    beta = covar(x,y,mean_x,mean_y)/var_x\n",
    "    alpha = mean_y - beta*mean_x\n",
    "    \n",
    "    return (beta, alpha)\n",
    "\n",
    "\n",
    "# test case 1:\n",
    "# a = range(0,10)\n",
    "# b = range(1,11)\n",
    "# ols_estimator(a,b)\n",
    "\n",
    "\n",
    "# test case 2:\n",
    "# a = [10,3,5,9]\n",
    "# b = [7,5,6,7]\n",
    "# ols_estimator(a,b)"
   ]
  },
  {
   "cell_type": "code",
   "execution_count": 2,
   "metadata": {},
   "outputs": [],
   "source": [
    "import ols_regression"
   ]
  },
  {
   "cell_type": "code",
   "execution_count": 1,
   "metadata": {},
   "outputs": [],
   "source": [
    "a = [10,3,5,9]\n",
    "b = [7,5,6,7]"
   ]
  },
  {
   "cell_type": "code",
   "execution_count": 2,
   "metadata": {},
   "outputs": [],
   "source": [
    "import numpy as np"
   ]
  },
  {
   "cell_type": "code",
   "execution_count": 8,
   "metadata": {},
   "outputs": [],
   "source": [
    "c = np.array(a).reshape(-1,1)"
   ]
  },
  {
   "cell_type": "code",
   "execution_count": 10,
   "metadata": {},
   "outputs": [
    {
     "data": {
      "text/plain": [
       "True"
      ]
     },
     "execution_count": 10,
     "metadata": {},
     "output_type": "execute_result"
    }
   ],
   "source": [
    "isinstance(a, Sequence)"
   ]
  },
  {
   "cell_type": "code",
   "execution_count": 11,
   "metadata": {},
   "outputs": [],
   "source": [
    "fit = LinearRegression().fit(np.array(a).reshape(-1,1), np.array(b).reshape(-1,1))"
   ]
  },
  {
   "cell_type": "code",
   "execution_count": 26,
   "metadata": {},
   "outputs": [
    {
     "data": {
      "text/plain": [
       "4.343511"
      ]
     },
     "execution_count": 26,
     "metadata": {},
     "output_type": "execute_result"
    }
   ],
   "source": [
    "round(fit.intercept_[0],6)"
   ]
  },
  {
   "cell_type": "code",
   "execution_count": 6,
   "metadata": {},
   "outputs": [
    {
     "data": {
      "text/plain": [
       "(0.2824427480916031, 4.343511450381679)"
      ]
     },
     "execution_count": 6,
     "metadata": {},
     "output_type": "execute_result"
    }
   ],
   "source": [
    "ols_regression.ols_estimator(a,b)"
   ]
  },
  {
   "cell_type": "code",
   "execution_count": 17,
   "metadata": {},
   "outputs": [],
   "source": []
  },
  {
   "cell_type": "code",
   "execution_count": 31,
   "metadata": {},
   "outputs": [],
   "source": [
    "x = [random.random() for _ in range(10)]"
   ]
  },
  {
   "cell_type": "code",
   "execution_count": 34,
   "metadata": {},
   "outputs": [],
   "source": [
    "        y = [random.random() + random.randrange(1, 50, 1)*v for v in x]\n"
   ]
  },
  {
   "cell_type": "code",
   "execution_count": 35,
   "metadata": {},
   "outputs": [
    {
     "data": {
      "text/plain": [
       "[0.31371464443581065,\n",
       " 0.2025528296337511,\n",
       " 0.533276039982301,\n",
       " 0.058253013659730346,\n",
       " 0.2549287359702317,\n",
       " 0.6890614720286445,\n",
       " 0.9901674846586829,\n",
       " 0.9367285584307641,\n",
       " 0.3624460829427989,\n",
       " 0.6755277976279365]"
      ]
     },
     "execution_count": 35,
     "metadata": {},
     "output_type": "execute_result"
    }
   ],
   "source": [
    "x"
   ]
  },
  {
   "cell_type": "code",
   "execution_count": 36,
   "metadata": {},
   "outputs": [
    {
     "data": {
      "text/plain": [
       "[5.183754158860053,\n",
       " 2.0118868805172374,\n",
       " 16.053386374963768,\n",
       " 1.6105893871793842,\n",
       " 6.057856156549194,\n",
       " 17.328613963906843,\n",
       " 28.71539893671797,\n",
       " 46.81366991896193,\n",
       " 5.538485003315605,\n",
       " 19.168656878060865]"
      ]
     },
     "execution_count": 36,
     "metadata": {},
     "output_type": "execute_result"
    }
   ],
   "source": [
    "y"
   ]
  },
  {
   "cell_type": "code",
   "execution_count": 40,
   "metadata": {},
   "outputs": [],
   "source": [
    "import numpy as np\n",
    "import random\n",
    "from sklearn.linear_model import LinearRegression\n",
    "\n",
    "class TestOLSRegression(unittest.TestCase):\n",
    "    def test_ols_regression(self):\n",
    "        x = [random.random() for _ in range(10)]\n",
    "        seed = random.randrange(1, 50, 1)\n",
    "        y = [random.random() + seed*v for v in x]\n",
    "        \n",
    "        fit = LinearRegression().fit(np.array(x).reshape(-1,1), np.array(y).reshape(-1,1))\n",
    "        actual_beta = fit.coef_[0][0]\n",
    "        actual_alpha = fit.intercept_[0]\n",
    "        \n",
    "        test_beta, test_alpha = ols_regression.ols_estimator(x,y)\n",
    "        print(actual_beta)\n",
    "        print(test_beta)\n",
    "        self.assertEqual(round(actual_alpha,6), round(test_alpha, 6), 'Intercept estimate incorrect.')\n",
    "        self.assertEqual(round(actual_beta,6), round(test_beta, 6), 'Slope estimate incorrect.')\n"
   ]
  },
  {
   "cell_type": "code",
   "execution_count": 43,
   "metadata": {},
   "outputs": [],
   "source": [
    "test = TestOLSRegression()"
   ]
  },
  {
   "cell_type": "code",
   "execution_count": 44,
   "metadata": {},
   "outputs": [
    {
     "ename": "AttributeError",
     "evalue": "'TestOLSRegression' object has no attribute 'main'",
     "output_type": "error",
     "traceback": [
      "\u001b[0;31m---------------------------------------------------------------------------\u001b[0m",
      "\u001b[0;31mAttributeError\u001b[0m                            Traceback (most recent call last)",
      "\u001b[0;32m<ipython-input-44-f70283137ead>\u001b[0m in \u001b[0;36m<module>\u001b[0;34m\u001b[0m\n\u001b[0;32m----> 1\u001b[0;31m \u001b[0mtest\u001b[0m\u001b[0;34m.\u001b[0m\u001b[0mmain\u001b[0m\u001b[0;34m(\u001b[0m\u001b[0;34m)\u001b[0m\u001b[0;34m\u001b[0m\u001b[0;34m\u001b[0m\u001b[0m\n\u001b[0m",
      "\u001b[0;31mAttributeError\u001b[0m: 'TestOLSRegression' object has no attribute 'main'"
     ]
    }
   ],
   "source": []
  },
  {
   "cell_type": "code",
   "execution_count": 94,
   "metadata": {},
   "outputs": [],
   "source": [
    "def ols_estimator(x: Sequence, y: Sequence) -> Tuple[float, float]:\n",
    "    \"\"\"\n",
    "    Estimate univariate OLS linear regression coefficients for y = a + b*x.\n",
    "    \n",
    "    @param x: regressor, sequence of numeric type\n",
    "    @param y: regressand, sequence of numeric type\n",
    "    @return: a tuple of (slope, intercept)\n",
    "    @raise Exception: if x and y are not of equi-length\n",
    "    \"\"\"\n",
    "    # check inputs are of equi-length\n",
    "    n = len(x)\n",
    "    if n != len(y):\n",
    "        raise Exception(\"Inputs x and y should be of same length.\")\n",
    "        \n",
    "    mean_x = sum(x)/n\n",
    "    mean_y = sum(y)/n\n",
    "    \n",
    "    beta = covar(x,y,mean_x,mean_y)/covar(x,x,mean_x,mean_x)\n",
    "    alpha = mean_y - beta*mean_x\n",
    "    \n",
    "    return (beta, alpha)\n",
    "    "
   ]
  },
  {
   "cell_type": "code",
   "execution_count": 121,
   "metadata": {},
   "outputs": [
    {
     "data": {
      "text/plain": [
       "(1.0, 1.0)"
      ]
     },
     "execution_count": 121,
     "metadata": {},
     "output_type": "execute_result"
    }
   ],
   "source": []
  },
  {
   "cell_type": "code",
   "execution_count": 122,
   "metadata": {},
   "outputs": [
    {
     "data": {
      "text/plain": [
       "(0.2824427480916031, 4.343511450381679)"
      ]
     },
     "execution_count": 122,
     "metadata": {},
     "output_type": "execute_result"
    }
   ],
   "source": [
    "a = [10,3,5,9]\n",
    "b = [7, 5, 6, 7]\n",
    "\n",
    "ols_estimator(a,b)"
   ]
  },
  {
   "cell_type": "code",
   "execution_count": null,
   "metadata": {},
   "outputs": [],
   "source": []
  }
 ],
 "metadata": {
  "kernelspec": {
   "display_name": "Python 3",
   "language": "python",
   "name": "python3"
  },
  "language_info": {
   "codemirror_mode": {
    "name": "ipython",
    "version": 3
   },
   "file_extension": ".py",
   "mimetype": "text/x-python",
   "name": "python",
   "nbconvert_exporter": "python",
   "pygments_lexer": "ipython3",
   "version": "3.8.3"
  }
 },
 "nbformat": 4,
 "nbformat_minor": 4
}
