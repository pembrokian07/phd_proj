{
 "cells": [
  {
   "cell_type": "code",
   "execution_count": null,
   "metadata": {},
   "outputs": [],
   "source": [
    "%%javascript\n",
    "document.title=\"numerics\""
   ]
  },
  {
   "cell_type": "code",
   "execution_count": null,
   "metadata": {},
   "outputs": [],
   "source": [
    "import os\n",
    "from collections import namedtuple\n",
    "import pandas as pd\n",
    "import numpy as np\n",
    "import seaborn as sns\n",
    "from matplotlib import pyplot as plt\n",
    "from mpl_toolkits.mplot3d import axes3d"
   ]
  },
  {
   "cell_type": "code",
   "execution_count": null,
   "metadata": {},
   "outputs": [],
   "source": [
    "sns.set(rc={'figure.figsize':(11.7,8.27)})"
   ]
  },
  {
   "cell_type": "code",
   "execution_count": null,
   "metadata": {},
   "outputs": [],
   "source": [
    "def load_sln(version, path, file_names):\n",
    "    sln = Sln._make([pd.read_csv(os.path.join(path, '{0}_{1}.csv'.format(file, version)), \n",
    "                     header=None) for file in file_names])\n",
    "    return sln \n",
    "\n",
    "def plot_psi(psi):\n",
    "    x = np.arange(len(psi))*360/J\n",
    "    ax = sns.lineplot(data=psi.set_axis(x))\n",
    "    ax.set_xlabel('α')\n",
    "    ax.set_ylabel('$\\psi$')\n",
    "    return ax"
   ]
  },
  {
   "cell_type": "code",
   "execution_count": null,
   "metadata": {},
   "outputs": [],
   "source": [
    "path = '/Users/kevinliu/temp/CarNumericsData/'\n",
    "data_files = ['psi','pressure','h','theta_A', 'theta_B']\n",
    "\n",
    "Sln = namedtuple(\"Sln\", data_files)\n",
    "\n",
    "v = 0\n",
    "versions = range(v,v+3)\n",
    "slns = [load_sln(v, path, data_files) for v in versions]\n",
    "\n",
    "I, J = slns[0].psi.shape\n",
    "dr = 1/I\n",
    "da = (2*np.pi)/J"
   ]
  },
  {
   "cell_type": "markdown",
   "metadata": {},
   "source": [
    "## asymptotics"
   ]
  },
  {
   "cell_type": "code",
   "execution_count": null,
   "metadata": {},
   "outputs": [],
   "source": [
    "# asymptotics\n",
    "q = 1\n",
    "theta_1 = 0\n",
    "\n",
    "r = np.reshape(np.arange(dr, 1+dr, dr), (-1,1))\n",
    "\n",
    "alpha = np.reshape(np.arange(1,J+1)*2*np.pi/J, (-1,1))\n",
    "alpha_minus = alpha[int(J/4):int(3*J/4)]\n",
    "alpha_plus = np.concatenate((alpha[:int(J/4)], alpha[int(3*J/4):]))\n",
    "\n",
    "x_minus = np.dot(r, np.cos(alpha_minus).transpose())\n",
    "x_plus = np.dot(r, np.cos(alpha_plus).transpose())\n",
    "z_minus = q*np.dot(r, np.sin(alpha_minus).transpose())\n",
    "z_plus = q*np.dot(r, np.sin(alpha_plus).transpose())\n",
    "\n",
    "f_x = theta_1 + 2*x_minus\n",
    "f_xx = 2\n",
    "\n",
    "#f_x = theta_1\n",
    "#f_xx = 0\n",
    "\n",
    "a_p_minus = 0.5*(z_minus**2 - (q**2)*(1-x_minus**2))*f_xx + (q**2)*x_minus*f_x\n",
    "a_p_plus = 0.5*(z_plus**2 - (q**2)*(1-x_plus**2))*f_xx\n",
    "a_p = np.concatenate((a_p_plus[:,:int(J/4)], a_p_minus, a_p_plus[:,int(J/4):]),axis=1)"
   ]
  },
  {
   "cell_type": "code",
   "execution_count": null,
   "metadata": {},
   "outputs": [],
   "source": [
    "i = 2\n",
    "fig = plt.figure()\n",
    "p = slns[0].pressure\n",
    "ax = p.iloc[i].plot()\n",
    "ax = pd.DataFrame(a_p).iloc[i].plot()\n",
    "ax.legend(['Numerics','Asymptotic'])"
   ]
  },
  {
   "cell_type": "markdown",
   "metadata": {},
   "source": [
    "## numerical plots"
   ]
  },
  {
   "cell_type": "code",
   "execution_count": null,
   "metadata": {},
   "outputs": [],
   "source": [
    "angles = (40, 180)\n",
    "\n",
    "pressure = slns[1].psi\n",
    "\n",
    "fig = plt.figure()\n",
    "ax = plt.axes(projection=\"3d\")\n",
    "q = 0.1\n",
    "x = np.arange(-1, 1+0.01, 0.01)\n",
    "y = q*np.arange(-1, 1+0.01, 0.01)\n",
    "x,y = np.meshgrid(x, y)\n",
    "\n",
    "N = 4\n",
    "#z = np.cos(0.5*np.pi*x)*np.cos(0.5*np.pi*y/q)\n",
    "z = x*np.cos(2*np.pi*y*N/q)\n",
    "#np.cos(2*np.pi*x/N)*np.cos(2*np.pi*y*N/q)\n",
    "#np.cos(0.5*np.pi*x)*np.cos(4*np.pi*y/q)\n",
    "\n",
    "ax.plot_surface(x,y,z)\n",
    "ax.set_xlabel('x')\n",
    "ax.set_ylabel('y')\n",
    "ax.set_zlabel('z')\n",
    "\n",
    "ax.view_init(*angles)\n",
    "plt.show()\n",
    "\n",
    "\n",
    "fig = plt.figure()\n",
    "ax = plt.axes(projection=\"3d\")\n",
    "\n",
    "r = np.arange(1,I+1)/I\n",
    "alpha = np.arange(1,J+1)*2*np.pi/J\n",
    "alpha, r = np.meshgrid(alpha, r, indexing='xy')\n",
    "\n",
    "x = r*np.cos(alpha)\n",
    "y = q*r*np.sin(alpha)\n",
    "z = pressure.values.reshape(I,-1)\n",
    "\n",
    "ax.plot_surface(x,y,z)\n",
    "ax.set_xlabel('x')\n",
    "ax.set_ylabel('y')\n",
    "ax.set_zlabel('z')\n",
    "\n",
    "ax.view_init(*angles)\n",
    "plt.show()\n",
    "\n",
    "\n",
    "fig = plt.figure()\n",
    "ax = plt.axes(projection=\"3d\")\n",
    "\n",
    "ax.plot_surface(alpha,r,z)\n",
    "ax.set_xlabel('alpha')\n",
    "ax.set_ylabel('r')\n",
    "ax.set_zlabel('z')\n",
    "\n",
    "ax.view_init(*angles)\n",
    "plt.show()"
   ]
  },
  {
   "cell_type": "code",
   "execution_count": null,
   "metadata": {},
   "outputs": [],
   "source": [
    "plt.plot(z[:,99])"
   ]
  },
  {
   "cell_type": "markdown",
   "metadata": {},
   "source": [
    "x = np.arange(-1,1,0.01)\n",
    "y = np.cos(0.5*x*np.pi)\n",
    "\n",
    "#g(x) = -z*cos(2pi*x)\n",
    "\n",
    "df = pd.DataFrame({'x':x,'y':y})\n",
    "fig = plt.figure()\n",
    "df.plot(x='x')\n",
    "plt.title('g(x)')"
   ]
  },
  {
   "cell_type": "code",
   "execution_count": null,
   "metadata": {},
   "outputs": [],
   "source": [
    "i = 99\n",
    "t = 50\n",
    "\n",
    "labels = ['x_c = {}'.format(i) for i in [-1,0,1]]\n",
    "\n",
    "fig = plt.figure()\n",
    "for p in [slns[v].psi for v in range(len(slns))]:\n",
    "    c_p = p.iloc[i]\n",
    "    c_p.index = np.arange(1,J+1)*360/J\n",
    "    ax = c_p.plot()\n",
    "    #pp = pd.DataFrame({'Pressure':p.iloc[i], 'alpha':np.arange(1,J+1)*360/J})\n",
    "    #ax = pp.plot(x='alpha')\n",
    "ax.legend(labels)\n",
    "plt.title('Pressure at r={0}*dr, t={1}*dt'.format(i+1, t))\n",
    "\n",
    "fig = plt.figure()\n",
    "for h in [slns[v].h[:t] for v in range(len(slns))]:\n",
    "    ax = h.iloc[:,0].plot()\n",
    "ax.legend(labels)\n",
    "plt.title('h at t={}*dt'.format(t))\n",
    "\n",
    "fig = plt.figure()\n",
    "for theta in [slns[v].theta_A[:t] for v in range(len(slns))]:\n",
    "    ax = theta.iloc[:,0].plot()\n",
    "ax.legend(labels)\n",
    "plt.title('theta1 at t={}*dt'.format(t))\n",
    "\n",
    "fig = plt.figure()\n",
    "for theta in [slns[v].theta_B[:t] for v in range(len(slns))]:\n",
    "    ax = theta.iloc[:,0].plot()\n",
    "ax.legend(labels)\n",
    "plt.title('theta2 at t={}*dt'.format(t))\n"
   ]
  },
  {
   "cell_type": "markdown",
   "metadata": {},
   "source": [
    "## plot slns"
   ]
  },
  {
   "cell_type": "code",
   "execution_count": null,
   "metadata": {},
   "outputs": [],
   "source": [
    "def df_dx(idx, J, dr, da, theta1, theta2):\n",
    "    alpha = np.arange(da, 2*np.pi+da, da)\n",
    "    r = (idx+1)*dr;\n",
    "\n",
    "    df_dr = np.cos(alpha)*theta1 + np.sin(alpha)*theta2;\n",
    "    df_da = r*(np.cos(alpha)*theta2 - np.sin(alpha)*theta1);\n",
    "    \n",
    "    res = df_dr*np.cos(alpha)-df_da*np.sin(alpha)/r \n",
    "        #-3*(np.sin(alpha) + np.cos(alpha))\n",
    "        #df_dr*np.cos(alpha)-df_da*np.sin(alpha)/r \n",
    "    return res\n",
    "\n",
    "\n",
    "def check_sln(psi, idx, J, dr, da, theta1, theta2, rhs_func):\n",
    "    c_psi = psi.iloc[idx]\n",
    "    r = (idx+1)*dr\n",
    "    alpha = np.arange(da, 2*np.pi+da, da)\n",
    "\n",
    "    psi_2 = c_psi.values\n",
    "    s1_psi_2 = c_psi.shift(1).fillna(c_psi.values[-1]).values\n",
    "    s2_psi_2 = c_psi.shift(-1).fillna(c_psi.values[0]).values\n",
    "    \n",
    "    psi_1 = psi.iloc[idx-1].values\n",
    "    psi_3 = psi.iloc[idx+1].values\n",
    "    \n",
    "    d2psi_dr2 = (psi_3+psi_1-2*psi_2)/(dr**2)\n",
    "    dpsi_dr = (psi_3 - psi_1)/(2*dr)\n",
    "    d2psi_da2 = (s1_psi_2+s2_psi_2-2*psi_2)/(da**2)\n",
    "    \n",
    "    num_soln = d2psi_dr2 + dpsi_dr/r + d2psi_da2/np.power(r,2)\n",
    "    real_soln = -rhs_func(idx, J, dr, da, theta1, theta2)\n",
    "\n",
    "    return num_soln, real_soln"
   ]
  },
  {
   "cell_type": "code",
   "execution_count": null,
   "metadata": {},
   "outputs": [],
   "source": [
    "num, rel = check_sln(psi, 2, J, dr, da, -1, 0, df_dx)\n",
    "pd.DataFrame({'num':num}).plot()"
   ]
  },
  {
   "cell_type": "code",
   "execution_count": null,
   "metadata": {},
   "outputs": [],
   "source": []
  },
  {
   "cell_type": "code",
   "execution_count": null,
   "metadata": {},
   "outputs": [],
   "source": [
    "pressure = pressures[2]\n",
    "fig = plt.figure()\n",
    "ax = plt.axes(projection=\"3d\")\n",
    "\n",
    "alpha = np.arange(1,J+1)*360/J\n",
    "r = np.arange(1,I+1)/I\n",
    "alpha, r = np.meshgrid(alpha, r)\n",
    "\n",
    "z = pressure.values.reshape(I,-1)\n",
    "\n",
    "ax.plot_surface(alpha,r,z)\n",
    "ax.set_xlabel('α')\n",
    "ax.set_ylabel('r')\n",
    "ax.set_zlabel('z')\n",
    "\n",
    "ax.view_init(20, 75)\n",
    "\n",
    "plt.show()"
   ]
  },
  {
   "cell_type": "code",
   "execution_count": null,
   "metadata": {},
   "outputs": [],
   "source": [
    "hs[2].plot()"
   ]
  },
  {
   "cell_type": "code",
   "execution_count": null,
   "metadata": {},
   "outputs": [],
   "source": []
  },
  {
   "cell_type": "code",
   "execution_count": null,
   "metadata": {},
   "outputs": [],
   "source": []
  },
  {
   "cell_type": "code",
   "execution_count": null,
   "metadata": {},
   "outputs": [],
   "source": []
  },
  {
   "cell_type": "code",
   "execution_count": null,
   "metadata": {},
   "outputs": [],
   "source": []
  },
  {
   "cell_type": "code",
   "execution_count": null,
   "metadata": {},
   "outputs": [],
   "source": []
  },
  {
   "cell_type": "markdown",
   "metadata": {},
   "source": [
    "# circle numerics"
   ]
  },
  {
   "cell_type": "code",
   "execution_count": null,
   "metadata": {},
   "outputs": [],
   "source": [
    "pressure.iloc[99].plot()"
   ]
  },
  {
   "cell_type": "code",
   "execution_count": null,
   "metadata": {},
   "outputs": [],
   "source": [
    "fig = plt.figure()\n",
    "ax = plt.axes(projection=\"3d\")\n",
    "\n",
    "alpha = np.arange(1,J+1)*360/J\n",
    "r = np.arange(1,I+1)/I\n",
    "alpha, r = np.meshgrid(alpha, r)\n",
    "\n",
    "z = pressure.values.reshape(I,-1)\n",
    "\n",
    "ax.plot_surface(alpha,r,z)\n",
    "ax.set_xlabel('α')\n",
    "ax.set_ylabel('r')\n",
    "ax.set_zlabel('z')\n",
    "\n",
    "ax.view_init(20, 75)\n",
    "\n",
    "plt.show()"
   ]
  },
  {
   "cell_type": "code",
   "execution_count": null,
   "metadata": {},
   "outputs": [],
   "source": [
    "h.plot()"
   ]
  },
  {
   "cell_type": "code",
   "execution_count": null,
   "metadata": {},
   "outputs": [],
   "source": [
    "theta1.plot()"
   ]
  },
  {
   "cell_type": "code",
   "execution_count": null,
   "metadata": {},
   "outputs": [],
   "source": []
  },
  {
   "cell_type": "code",
   "execution_count": null,
   "metadata": {},
   "outputs": [],
   "source": []
  },
  {
   "cell_type": "markdown",
   "metadata": {},
   "source": [
    "## test solution"
   ]
  },
  {
   "cell_type": "code",
   "execution_count": null,
   "metadata": {},
   "outputs": [],
   "source": [
    "num, rel = check_sln(psi, 1, J, dr, da, 1, 0, df_dx)\n",
    "pd.DataFrame({'num':num,'rel':rel}).plot()\n",
    "pd.Series(num-rel).describe()"
   ]
  },
  {
   "cell_type": "code",
   "execution_count": null,
   "metadata": {},
   "outputs": [],
   "source": [
    "num, rel = check_sln(psi, 98, J, dr, da, 1, 0, df_dx)\n",
    "pd.DataFrame({'num':num,'rel':rel}).plot()\n",
    "pd.Series(num-rel).describe()"
   ]
  },
  {
   "cell_type": "code",
   "execution_count": null,
   "metadata": {},
   "outputs": [],
   "source": [
    "i = 98\n",
    "r = (i+1)*dr\n",
    "alphas = (np.arange(J)+1)*2*np.pi/J\n",
    "real_sln = r**2*(np.sin(alphas) + np.cos(alphas))"
   ]
  },
  {
   "cell_type": "code",
   "execution_count": null,
   "metadata": {},
   "outputs": [],
   "source": [
    "pd.DataFrame({'real': real_sln,'num':psi.iloc[i]}).plot()"
   ]
  },
  {
   "cell_type": "code",
   "execution_count": null,
   "metadata": {},
   "outputs": [],
   "source": [
    "pd.Series(real_sln - psi.iloc[i]).plot()"
   ]
  },
  {
   "cell_type": "code",
   "execution_count": null,
   "metadata": {},
   "outputs": [],
   "source": []
  },
  {
   "cell_type": "markdown",
   "metadata": {},
   "source": [
    "## v1"
   ]
  },
  {
   "cell_type": "code",
   "execution_count": null,
   "metadata": {},
   "outputs": [],
   "source": [
    "i = I\n",
    "plot_ids = [i] #1*d_r, 100*d_r = R = 1\n",
    "for j in plot_ids:\n",
    "    c_psi = get_psi(psi, j)\n",
    "    ax = plot_psi(c_psi) \n",
    "ax.legend(plot_ids)\n",
    "\n",
    "ans = pd.DataFrame({'α':np.arange(len(c_psi))*360/J, \n",
    "                    'Ψ':[np.power((i*dr),2)*(np.sin(x*da) + np.cos(x*da)) for x in range(1,J+1)]})\n",
    "ans.plot(x='α',y='Ψ', ax = ax)\n",
    "ax.legend(['soln r={}*dr'.format(i),'actual r={}*dr'.format(i)])\n",
    "\n",
    "errs.describe()"
   ]
  },
  {
   "cell_type": "code",
   "execution_count": null,
   "metadata": {},
   "outputs": [],
   "source": [
    "j=2000\n",
    "i = I\n",
    "plot_ids = [i] #1*d_r, 100*d_r = R = 1\n",
    "for j in plot_ids:\n",
    "    c_psi = get_psi(psi, j)\n",
    "    ax = plot_psi(c_psi) \n",
    "ax.legend(plot_ids)\n",
    "\n",
    "ans = pd.DataFrame({'α':np.arange(len(c_psi))*360/J, \n",
    "                    'Ψ':[np.power((i*dr),2)*(np.sin(x*da) + np.cos(x*da)) for x in range(1,J+1)]})\n",
    "ans.plot(x='α',y='Ψ', ax = ax)\n",
    "ax.legend(['soln r={}*dr'.format(i),'actual r={}*dr'.format(i)])\n",
    "\n",
    "errs.describe()"
   ]
  },
  {
   "cell_type": "code",
   "execution_count": null,
   "metadata": {},
   "outputs": [],
   "source": [
    "i = I\n",
    "plot_ids = [i] #1*d_r, 100*d_r = R = 1\n",
    "for j in plot_ids:\n",
    "    c_psi = get_psi(psi, j)\n",
    "    ax = plot_psi(c_psi) \n",
    "ax.legend(plot_ids)\n",
    "\n",
    "ans = pd.DataFrame({'α':np.arange(len(c_psi))*360/J, \n",
    "                    'Ψ':[np.power((i*dr),2)*(np.sin(x*da) + np.cos(x*da)) for x in range(1,J+1)]})\n",
    "ans.plot(x='α',y='Ψ', ax = ax)\n",
    "ax.legend(['soln r={}*dr'.format(i),'actual r={}*dr'.format(i)])\n",
    "\n",
    "errs.describe()"
   ]
  },
  {
   "cell_type": "code",
   "execution_count": null,
   "metadata": {},
   "outputs": [],
   "source": [
    "j=2000\n",
    "i= I\n",
    "plot_ids = [i] #1*d_r, 100*d_r = R = 1\n",
    "for j in plot_ids:\n",
    "    c_psi = get_psi(psi, j)\n",
    "    ax = plot_psi(c_psi) \n",
    "ax.legend(plot_ids)\n",
    "\n",
    "ans = pd.DataFrame({'α':np.arange(len(c_psi))*360/J, \n",
    "                    'Ψ':[np.power((i*dr),2)*(np.sin(x*da) + np.cos(x*da)) for x in range(1,J+1)]})\n",
    "ans.plot(x='α',y='Ψ', ax = ax)\n",
    "ax.legend(['soln r={}*dr'.format(i),'actual r={}*dr'.format(i)])\n",
    "\n",
    "errs.describe()"
   ]
  },
  {
   "cell_type": "code",
   "execution_count": null,
   "metadata": {},
   "outputs": [],
   "source": [
    "i = 1000\n",
    "plot_ids = [i] #1*d_r, 100*d_r = R = 1\n",
    "for j in plot_ids:\n",
    "    c_psi = get_psi(psi, j)\n",
    "    ax = plot_psi(c_psi) \n",
    "ax.legend(plot_ids)\n",
    "\n",
    "ans = pd.DataFrame({'α':np.arange(len(c_psi))*360/J, \n",
    "                    'Ψ':[np.power((i*dr),2)*(np.sin(x*da) + np.cos(x*da)) for x in range(1,J+1)]})\n",
    "ans.plot(x='α',y='Ψ', ax = ax)\n",
    "ax.legend(['soln r={}*dr'.format(i),'actual r={}*dr'.format(i)])\n",
    "\n",
    "errs.describe()"
   ]
  },
  {
   "cell_type": "code",
   "execution_count": null,
   "metadata": {},
   "outputs": [],
   "source": [
    "i = 1000\n",
    "j = 2000\n",
    "plot_ids = [i] #1*d_r, 100*d_r = R = 1\n",
    "for j in plot_ids:\n",
    "    c_psi = get_psi(psi, j)\n",
    "    ax = plot_psi(c_psi) \n",
    "ax.legend(plot_ids)\n",
    "\n",
    "ans = pd.DataFrame({'α':np.arange(len(c_psi))*360/J, \n",
    "                    'Ψ':[np.power((i*dr),2)*(np.sin(x*da) + np.cos(x*da)) for x in range(1,J+1)]})\n",
    "ans.plot(x='α',y='Ψ', ax = ax)\n",
    "ax.legend(['soln r={}*dr'.format(i),'actual r={}*dr'.format(i)])\n",
    "\n",
    "errs.describe()"
   ]
  },
  {
   "cell_type": "code",
   "execution_count": null,
   "metadata": {},
   "outputs": [],
   "source": []
  },
  {
   "cell_type": "code",
   "execution_count": null,
   "metadata": {},
   "outputs": [],
   "source": []
  },
  {
   "cell_type": "markdown",
   "metadata": {},
   "source": [
    "i = 1\n",
    "plot_ids = [i] #1*d_r, 100*d_r = R = 1\n",
    "for j in plot_ids:\n",
    "    c_psi = get_psi(psi, j)\n",
    "    ax = plot_psi(c_psi) \n",
    "ax.legend(plot_ids)\n",
    "\n",
    "ans = pd.DataFrame({'x':np.arange(len(c_psi))*360/J, \n",
    "                    'psi':[np.power((i*dr),2)*(np.sin(x*da) + np.cos(x*da)) for x in range(1,J+1)]})\n",
    "ans.plot(x='x',y='psi', ax = ax)\n",
    "ax.legend(['soln','actual'])"
   ]
  },
  {
   "cell_type": "code",
   "execution_count": null,
   "metadata": {},
   "outputs": [],
   "source": [
    "np.power(2*0.1, -2)"
   ]
  },
  {
   "cell_type": "code",
   "execution_count": null,
   "metadata": {},
   "outputs": [],
   "source": []
  },
  {
   "cell_type": "markdown",
   "metadata": {},
   "source": [
    "## plot errors"
   ]
  },
  {
   "cell_type": "code",
   "execution_count": null,
   "metadata": {},
   "outputs": [],
   "source": [
    "ax = errs.plot()\n",
    "\n",
    "ax.set_title('Mean absolute error (numerical v.s. actual) for r in R')"
   ]
  },
  {
   "cell_type": "code",
   "execution_count": null,
   "metadata": {},
   "outputs": [],
   "source": [
    "ax = errs.plot()\n",
    "\n",
    "ax.set_title('Mean absolute error (numerical v.s. actual) for r in [1 ... 99]*dr')"
   ]
  },
  {
   "cell_type": "markdown",
   "metadata": {},
   "source": [
    "# 4th order accuracy"
   ]
  },
  {
   "cell_type": "code",
   "execution_count": null,
   "metadata": {},
   "outputs": [],
   "source": [
    "errs.describe()"
   ]
  },
  {
   "cell_type": "code",
   "execution_count": null,
   "metadata": {},
   "outputs": [],
   "source": [
    "ax = errs.plot()\n",
    "\n",
    "ax.set_title('Mean absolute error (numerical v.s. actual) for r in [1 ... 99]*dr')"
   ]
  },
  {
   "cell_type": "markdown",
   "metadata": {},
   "source": [
    "pd.Series ([np.power((i*dr),2)*(np.sin(x*da) + np.cos(x*da)) for x in range(1,J+1)]).plot()"
   ]
  },
  {
   "cell_type": "code",
   "execution_count": null,
   "metadata": {},
   "outputs": [],
   "source": []
  },
  {
   "cell_type": "code",
   "execution_count": null,
   "metadata": {},
   "outputs": [],
   "source": [
    "import json\n",
    "import yfinance as yf\n",
    "from datetime import datetime\n",
    "\n",
    "dt = datetime.now()\n",
    "\n",
    "datetime.strftime(dt, '%Y-%m-%d')\n",
    "\n",
    "data = yf.download(\"BTC-USD\", start=\"2020-01-01\", end=\"2021-04-30\")\n",
    "\n",
    "data.reset_index()"
   ]
  },
  {
   "cell_type": "code",
   "execution_count": null,
   "metadata": {},
   "outputs": [],
   "source": []
  }
 ],
 "metadata": {
  "kernelspec": {
   "display_name": "Python 3",
   "language": "python",
   "name": "python3"
  },
  "language_info": {
   "codemirror_mode": {
    "name": "ipython",
    "version": 3
   },
   "file_extension": ".py",
   "mimetype": "text/x-python",
   "name": "python",
   "nbconvert_exporter": "python",
   "pygments_lexer": "ipython3",
   "version": "3.8.3"
  }
 },
 "nbformat": 4,
 "nbformat_minor": 4
}
